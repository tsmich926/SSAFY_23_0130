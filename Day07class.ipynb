{
 "cells": [
  {
   "cell_type": "markdown",
   "id": "internal-shopping",
   "metadata": {},
   "source": [
    "<p style=\"font-size: 33px; font-weight: 700; margin-bottom: 3rem\">OOP</p>\n",
    "\n",
    "\n",
    "\n",
    "- 객체(Object)\n",
    "- 객체지향프로그래밍(Object Oriented Programming)\n",
    "- 클래스(Class)와 객체(Object)\n"
   ]
  },
  {
   "cell_type": "markdown",
   "id": "veterinary-millennium",
   "metadata": {},
   "source": [
    "# 객체(Object)\n",
    "\n",
    "> Python에서 **모든 것은 객체(object)**입니다.\n",
    ">\n",
    "> 모든 객체는 **타입(type), 속성(attribute), 조작법(method)**을 가집니다.\n"
   ]
  },
  {
   "cell_type": "markdown",
   "id": "tutorial-shock",
   "metadata": {},
   "source": [
    "객체(Object)의 특징\n",
    "\n",
    "- **타입(type)**: 어떤 연산자(operator)와 조작(method)이 가능한가? \n",
    "- **속성(attribute)**: 어떤 상태(데이터)를 가지는가?\n",
    "- **조작법(method)**: 어떤 행위(함수)를 할 수 있는가?"
   ]
  },
  {
   "cell_type": "markdown",
   "id": "brave-contents",
   "metadata": {},
   "source": [
    "# 객체 지향 프로그래밍(Object-Oriented Programming)\n",
    "\n",
    "Object가 중심(oriented)이 되는 프로그래밍\n",
    "\n",
    "**<wikipedia - 객체지향 프로그래밍>**\n",
    ">\n",
    "> 객체 지향 프로그래밍(영어: Object-Oriented Programming, OOP)은 컴퓨터 프로그래밍의 패러다임의 하나입니다. \n",
    ">\n",
    "> 객체 지향 프로그래밍은 컴퓨터 프로그램을 명령어의 목록으로 보는 시각에서 벗어나 여러 개의 독립된 단위, 즉 \"객체\"들의 모임으로 파악하고자 하는 것입니다.\n",
    "\n",
    "\n"
   ]
  },
  {
   "cell_type": "markdown",
   "id": "devoted-daily",
   "metadata": {},
   "source": [
    "## 절차 중심 vs. 객체 중심\n",
    "\n",
    "> 프로그래밍 패러다임: 어떻게 프로그램을 작성할 것인가"
   ]
  },
  {
   "cell_type": "markdown",
   "id": "invalid-dimension",
   "metadata": {},
   "source": [
    "## 객체 중심의 장점\n",
    "\n",
    "\n",
    "**<wikipedia - 객체지향 프로그래밍>**\n",
    "> 객체 지향 프로그래밍은 프로그램을 유연하고 변경이 용이하게 만들기 때문에 대규모 소프트웨어 개발에 많이 사용됩니다. \n",
    ">\n",
    "> 또한 프로그래밍을 더 배우기 쉽게 하고 소프트웨어 개발과 보수를 간편하게 하며, 보다 직관적인 코드 분석을 가능하게 하는 장점을 갖고 있습니다.\n",
    "\n",
    "- 코드의 **직관성**\n",
    "\n",
    "- 활용의 **용이성**\n",
    "\n",
    "- 변경의 **유연성**"
   ]
  },
  {
   "cell_type": "markdown",
   "id": "liberal-north",
   "metadata": {},
   "source": [
    "## OOP 기초"
   ]
  },
  {
   "cell_type": "markdown",
   "id": "christian-marathon",
   "metadata": {},
   "source": [
    "### 기본 문법\n",
    "\n",
    "```python\n",
    "# 클래스 정의\n",
    "class MyClass:\n",
    "    pass\n",
    "\n",
    "# 인스턴스 생성\n",
    "my_instance = MyClass()\n",
    "\n",
    "# 속성 접근\n",
    "my_instance.my_attribute\n",
    "\n",
    "# 메서드 호출\n",
    "my_instance.my_method()\n",
    "```"
   ]
  },
  {
   "cell_type": "markdown",
   "id": "minimal-generator",
   "metadata": {},
   "source": [
    "### 클래스(class)\n",
    "\n",
    "- 클래스는 공통된 속성(attribute)과 조작법(method)을 가진 객체들의 분류입니다."
   ]
  },
  {
   "cell_type": "markdown",
   "id": "utility-brake",
   "metadata": {},
   "source": [
    "### 인스턴스(Instance)\n",
    "- 특정 클래스(class)의 실제 데이터 예시(instance)입니다. \n",
    "- 파이썬에서 모든 것은 객체이고, **모든 객체는 특정 클래스의 인스턴스**입니다.\n",
    "\n",
    "```python\n",
    "# Person 클래스\n",
    "class Person:\n",
    "    pass\n",
    "\n",
    "# ssafykim은 Person 클래스의 인스턴스\n",
    "ssafykim = Person()\n",
    "```"
   ]
  },
  {
   "cell_type": "code",
   "execution_count": 1,
   "id": "joint-location",
   "metadata": {},
   "outputs": [],
   "source": [
    "class Person:\n",
    "    pass"
   ]
  },
  {
   "cell_type": "code",
   "execution_count": 3,
   "id": "accurate-bulgarian",
   "metadata": {},
   "outputs": [],
   "source": [
    "# Person 클래스의 인스턴스를 만들어봅시다.\n",
    "ssafykim = Person()\n"
   ]
  },
  {
   "cell_type": "code",
   "execution_count": 4,
   "id": "virgin-immune",
   "metadata": {},
   "outputs": [
    {
     "data": {
      "text/plain": [
       "True"
      ]
     },
     "execution_count": 4,
     "metadata": {},
     "output_type": "execute_result"
    }
   ],
   "source": [
    "# ssafykim 변수에 담긴 인스턴스가 Person 클래스의 인스턴스인지 확인해봅시다.\n",
    "# isinstance 함수를 활용합니다.\n",
    "\n",
    "isinstance(ssafykim,Person)"
   ]
  },
  {
   "cell_type": "markdown",
   "id": "ruled-prior",
   "metadata": {},
   "source": [
    "## 속성(attribute)과 메서드(method)\n",
    "\n",
    "객체의 속성(상태, 데이터)과 조작법(함수)을 명확히 구분해 봅시다.\n",
    "\n",
    "| type         | attributes       | methods                                |\n",
    "| -------------| ---------------- | -------------------------------------- |\n",
    "| `complex`    | `.real`, `.imag` |              _                          |\n",
    "| `str`        |       _          | `.capitalize()`, `.join()`, `.split()` |\n",
    "| `list`       |       _          | `.append()`, `.reverse()`, `.sort()`   |\n",
    "| `dict`       |       _          | `.keys()`, `.values()`, `.items()`     |\n"
   ]
  },
  {
   "cell_type": "markdown",
   "id": "incredible-aurora",
   "metadata": {},
   "source": [
    "### 속성(attribute)\n",
    "\n",
    "- 속성(attribute)은 객체(object)의 상태/데이터를 뜻합니다.\n",
    "\n",
    "\n",
    "**활용법**\n",
    "\n",
    "```python\n",
    "<객체>.<속성>\n",
    "```\n",
    "\n",
    "**예시**\n",
    "\n",
    "```python\n",
    "person.name\n",
    "```\n",
    "\n",
    "- `Person` 클래스의 객체들이 가지게 될 데이터를 활용해봅시다."
   ]
  },
  {
   "cell_type": "markdown",
   "id": "aerial-stomach",
   "metadata": {},
   "source": [
    "### 메서드(method)\n",
    "\n",
    "- 특정 객체가 할 수 있는 행위(behavior)를 뜻 합니다.\n",
    "\n",
    "**활용법**\n",
    "```python\n",
    "<객체>.<메서드>()\n",
    "```\n",
    "\n",
    "**예시**\n",
    "```python\n",
    "person.talk()\n",
    "person.eat()\n",
    "```\n",
    "\n",
    "- `Person` 클래스에 공통적으로 적용 가능한 함수인 `메서드`를 활용해봅시다."
   ]
  },
  {
   "cell_type": "markdown",
   "id": "impressive-sucking",
   "metadata": {},
   "source": [
    "# 인스턴스(instance)"
   ]
  },
  {
   "cell_type": "markdown",
   "id": "selective-deposit",
   "metadata": {},
   "source": [
    "## 인스턴스(instance) 생성\n",
    "* 정의된 클래스(`class`)에 속하는 객체를 해당 클래스의 인스턴스(instance)라고 합니다.\n",
    "\n",
    "* `Person` 클래스의 인스턴스는 `Person()`을 호출함으로써 생성됩니다.\n",
    "\n",
    "* `type()` 함수를 통해 생성된 객체의 클래스를 확인할 수 있습니다.\n",
    "\n",
    "\n",
    "**활용법**\n",
    "\n",
    "\n",
    "```python\n",
    "# 인스턴스 = 클래스()\n",
    "person1 = Person()\n",
    "```\n",
    "\n",
    "- `person1`은 사용자가 정의한(user-defined) `Person`이라는 데이터 타입(data type)의 인스턴스입니다."
   ]
  },
  {
   "cell_type": "code",
   "execution_count": 5,
   "id": "a70cb0bc",
   "metadata": {},
   "outputs": [],
   "source": [
    "class Person:\n",
    "    pass"
   ]
  },
  {
   "cell_type": "code",
   "execution_count": 7,
   "id": "closed-disney",
   "metadata": {},
   "outputs": [
    {
     "name": "stdout",
     "output_type": "stream",
     "text": [
      "<class '__main__.Person'>\n",
      "<class '__main__.Person'>\n"
     ]
    }
   ],
   "source": [
    "# Person 클래스의 인스턴스 p1과 p2를 생성해봅시다.\n",
    "# 두 인스턴스의 type을 출력해보세요.\n",
    "p1 = Person()\n",
    "p2 = Person()\n",
    "print(type(p1))\n",
    "print(type(p2))"
   ]
  },
  {
   "cell_type": "markdown",
   "id": "sophisticated-remainder",
   "metadata": {},
   "source": [
    "## 인스턴스 변수\n",
    "* 인스턴스의 속성(attribute)\n",
    "* 각 인스턴스들의 고유한 데이터\n",
    "* 생성자 메서드에서 `self.변수명`로 정의(생성자 메서드는 뒤에 학습합니다.)\n",
    "* 인스턴스가 생성된 이후 `인스턴스.변수명`로 접근 및 할당\n",
    "\n",
    "---\n",
    "**활용법**\n",
    "    \n",
    "```python\n",
    "class Person:\n",
    "    pass\n",
    "\n",
    "p1 = Person()\n",
    "p1.name = 'jack'\n",
    "p1.age = 25\n",
    "```"
   ]
  },
  {
   "cell_type": "code",
   "execution_count": 8,
   "id": "seven-edward",
   "metadata": {},
   "outputs": [],
   "source": [
    "# 위와 같은 Person 클래스를 똑같이 정의해봅시다.\n",
    "\n",
    "class Person:\n",
    "    pass\n"
   ]
  },
  {
   "cell_type": "code",
   "execution_count": 10,
   "id": "involved-zimbabwe",
   "metadata": {},
   "outputs": [],
   "source": [
    "# Person 클래스의 인스턴스를 생성하고, me 변수에 저장합니다.\n",
    "# me의 인스턴스 변수 name을 본인 이름으로 설정합니다.\n",
    "\n",
    "me = Person()\n",
    "me.name = '황수아'"
   ]
  },
  {
   "cell_type": "code",
   "execution_count": 11,
   "id": "brilliant-manufacturer",
   "metadata": {},
   "outputs": [
    {
     "name": "stdout",
     "output_type": "stream",
     "text": [
      "황수아\n"
     ]
    }
   ],
   "source": [
    "# me 인스턴스의 name 변수에 접근하여 값을 출력해봅시다.\n",
    "print(me.name)"
   ]
  },
  {
   "cell_type": "code",
   "execution_count": 12,
   "id": "adjacent-japan",
   "metadata": {},
   "outputs": [
    {
     "name": "stdout",
     "output_type": "stream",
     "text": [
      "황자미\n"
     ]
    }
   ],
   "source": [
    "# me 인스턴스의 name 변수의 값을 새로운 이름으로 할당하고 다시 출력해봅시다.\n",
    "me.name = '황자미'\n",
    "print(me.name)\n"
   ]
  },
  {
   "cell_type": "markdown",
   "id": "soviet-yemen",
   "metadata": {},
   "source": [
    "## 인스턴스 메서드\n",
    "\n",
    "> 메서드란?\n",
    "> - 특정 데이터 타입(또는 클래스)의 객체에 공통적으로 적용 가능한 행위(behavior)들을 의미합니다.\n",
    "\n",
    "* 인스턴스 메서드는 인스턴스가 사용할 메서드에 해당합니다.\n",
    "* 클래스 내부에 정의되는 메서드는 기본적으로 인스턴스 메서드로 생성됩니다.\n",
    "* **메서드 호출시, 첫번째 인자로 인스턴스 자기자신에 해당하는 `self`가 전달됩니다**\n",
    "\n",
    "**활용법**\n",
    "\n",
    "```python\n",
    "class MyClass:\n",
    "    def instance_method(self, arg1, arg2, ...):\n",
    "        ...\n",
    "\n",
    "my_instance = MyClass()\n",
    "# 인스턴스 생성 후 메서드를 호출하면 자동으로 첫 번째 인자로 인스턴스(my_instance)가 들어갑니다.\n",
    "my_instance.instance_method(.., ..)  \n",
    "```"
   ]
  },
  {
   "cell_type": "code",
   "execution_count": null,
   "id": "constant-backing",
   "metadata": {},
   "outputs": [],
   "source": [
    "# 위의 활용법을 참고하여 Person 클래스와 talk() 메서드를 정의했습니다."
   ]
  },
  {
   "cell_type": "code",
   "execution_count": 23,
   "id": "acute-inclusion",
   "metadata": {},
   "outputs": [],
   "source": [
    "# class Person:\n",
    "#     def talk(self):\n",
    "#         print('안녕!')\n",
    "\n",
    "class Person:\n",
    "    def talk(self):\n",
    "        print('hi')"
   ]
  },
  {
   "cell_type": "code",
   "execution_count": 25,
   "id": "mighty-calculator",
   "metadata": {},
   "outputs": [
    {
     "name": "stdout",
     "output_type": "stream",
     "text": [
      "hi\n",
      "hi\n"
     ]
    }
   ],
   "source": [
    "# Person 클래스의 인스턴스 p1, p2를 생성하고 각각 talk 메서드를 실행해봅시다.\n",
    "\n",
    "p1 = Person()\n",
    "p2 = Person()\n",
    "p1.talk()\n",
    "p2.talk()\n",
    "#talk 메소드 실행"
   ]
  },
  {
   "cell_type": "markdown",
   "id": "basic-punch",
   "metadata": {},
   "source": [
    "- 메서드도 함수이기 때문에 추가적인 인자를 받을 수 있습니다.\n",
    "- `Person` 클래스를 재정의 하며 `talk` 메서드를 정의하고, `eat` 메서드를 추가로 정의해봅시다.\n",
    "- `eat` 메서드는 `food` 라는 이름의 인자를 받아서 출력합니다.\n",
    "- 추가적인 인자를 받기 위해서는 아래와 같은 모습으로 코드가 작성되어야 합니다.\n",
    "\n",
    "```python\n",
    "class MyClass:\n",
    "    def method1(self):\n",
    "        print('Hi')\n",
    "    \n",
    "    def method2(self, arg):\n",
    "        print(arg)\n",
    "```"
   ]
  },
  {
   "cell_type": "code",
   "execution_count": 32,
   "id": "occupational-waste",
   "metadata": {},
   "outputs": [],
   "source": [
    "class Person:\n",
    "    def talk(self):\n",
    "        print('안녕')\n",
    "    \n",
    "    def eat(self, food):\n",
    "        print(f'냠냠 {food}')"
   ]
  },
  {
   "cell_type": "code",
   "execution_count": 33,
   "id": "desirable-johns",
   "metadata": {},
   "outputs": [
    {
     "name": "stdout",
     "output_type": "stream",
     "text": [
      "냠냠 피자\n"
     ]
    }
   ],
   "source": [
    "# Person 클래스의 인스턴스 p1을 생성하고 eat() 메서드를 인자와 함께 호출해봅시다.\n",
    "p1 = Person()\n",
    "p1.eat('피자')\n"
   ]
  },
  {
   "cell_type": "code",
   "execution_count": null,
   "id": "standard-large",
   "metadata": {},
   "outputs": [],
   "source": [
    "# 기본 인자, 가변 인자 리스트 등 함수의 인자와 동일하게 매개변수를 정의할 수 있습니다.\n",
    "# Person 클래스를 재정의하며, eat() 메서드를 정의할 때 food 인자의 기본 값을 원하는 음식으로 설정해봅시다.\n",
    "class Person:\n",
    "    def talk(self):\n",
    "        print('안녕')\n",
    "    \n",
    "    def eat(self, '치킨'):\n",
    "        print('냠냠 '치킨')"
   ]
  },
  {
   "cell_type": "code",
   "execution_count": null,
   "id": "opposite-annual",
   "metadata": {},
   "outputs": [],
   "source": [
    "# Person 클래스의 인스턴스 p1을 생성하고, eat() 메서드를 인자 있이/없이 두번 호출해봅시다.\n",
    "\n"
   ]
  },
  {
   "cell_type": "markdown",
   "id": "meaningful-princess",
   "metadata": {},
   "source": [
    "##  `self` \n",
    "\n",
    "> 인스턴스 자신(self)\n",
    "\n",
    "* Python에서 인스턴스 메서드는 **호출 시 첫번째 인자로 인스턴스 자신이 전달**되게 설계되었습니다. \n",
    "\n",
    "\n",
    "* 보통 매개변수명으로 `self`를 첫번째 인자로 정의 (다른 이름도 가능하지만 추천하지는 않습니다.)"
   ]
  },
  {
   "cell_type": "code",
   "execution_count": 36,
   "id": "mediterranean-eligibility",
   "metadata": {},
   "outputs": [],
   "source": [
    "# 아래의 Person 클래스를 통해서 self가 무엇인지 확인해봅시다.\n",
    "class Person:\n",
    "    def test(self):\n",
    "        print(self)"
   ]
  },
  {
   "cell_type": "code",
   "execution_count": 37,
   "id": "recreational-price",
   "metadata": {},
   "outputs": [
    {
     "name": "stdout",
     "output_type": "stream",
     "text": [
      "<__main__.Person object at 0x0000021C8CF69AC0>\n",
      "None\n"
     ]
    }
   ],
   "source": [
    "# Person 클래스의 인스턴스 p1을 생성하고 test() 메서드를 호출하여 self를 확인해봅시다.\n",
    "p1 = Person()\n",
    "print(p1.test())"
   ]
  },
  {
   "cell_type": "code",
   "execution_count": 38,
   "id": "sublime-department",
   "metadata": {},
   "outputs": [
    {
     "name": "stdout",
     "output_type": "stream",
     "text": [
      "<__main__.Person object at 0x0000021C8CF69AC0>\n"
     ]
    }
   ],
   "source": [
    "# p1을 출력하여 비교해봅시다.\n",
    "print(p1)"
   ]
  },
  {
   "cell_type": "markdown",
   "id": "soviet-attempt",
   "metadata": {},
   "source": [
    "### 생성자(constructor) 메서드\n",
    "- 인스턴스 객체가 생성될 때 자동으로 호출되는 함수입니다.\n",
    "- 반드시 `__init__` 이라는 이름으로 정의합니다.\n",
    "\n",
    "---\n",
    "**활용법**\n",
    "\n",
    "```python\n",
    "class MyClass:\n",
    "    def __init__(self):\n",
    "        print('생성될 때 자동으로 호출되는 메서드입니다.')\n",
    "```\n",
    "\n",
    "- 생성자를 활용하면 인스턴스가 생성될 때 인스턴스의 속성을 정의할 수 있습니다.\n"
   ]
  },
  {
   "cell_type": "code",
   "execution_count": 39,
   "id": "australian-article",
   "metadata": {},
   "outputs": [],
   "source": [
    "class Person:\n",
    "    def __init__(self, name):\n",
    "        self.name = name\n",
    "    \n",
    "    def talk(self):\n",
    "        print(f'I am {self.name}')"
   ]
  },
  {
   "cell_type": "code",
   "execution_count": 40,
   "id": "incomplete-nepal",
   "metadata": {},
   "outputs": [],
   "source": [
    "# 자신의 이름을 인자로 넘기며 Person의 인스턴스 p1를 생성해봅시다.\n",
    "\n",
    "p1 = Person('수아')"
   ]
  },
  {
   "cell_type": "code",
   "execution_count": 41,
   "id": "traditional-ecology",
   "metadata": {},
   "outputs": [
    {
     "name": "stdout",
     "output_type": "stream",
     "text": [
      "I am 수아\n"
     ]
    }
   ],
   "source": [
    "# talk() 메서드를 호출해 봅시다.\n",
    "p1.talk()\n"
   ]
  },
  {
   "cell_type": "code",
   "execution_count": 43,
   "id": "hungry-mistress",
   "metadata": {},
   "outputs": [],
   "source": [
    "# talk 메서드를 클래스에서 메서드를 실행해봅시다. self는 정말 빈자리일까요?\n"
   ]
  },
  {
   "cell_type": "markdown",
   "id": "rolled-junior",
   "metadata": {},
   "source": [
    "### 소멸자(destructor) 메서드\n",
    "- 인스턴스 객체가 소멸(파괴)되기 직전에 자동으로 호출되는 함수입니다.\n",
    "- 반드시 `__del__` 이라는 이름으로 정의합니다.\n",
    "\n",
    "---\n",
    "\n",
    "**활용법**\n",
    "\n",
    "```python\n",
    "# 소멸자 정의\n",
    "def __del__(self):\n",
    "    print('소멸될 때 자동으로 호출되는 메서드입니다.')\n",
    "    \n",
    "# 소멸자 활용\n",
    "del 인스턴스\n",
    "```"
   ]
  },
  {
   "cell_type": "code",
   "execution_count": 44,
   "id": "basic-error",
   "metadata": {},
   "outputs": [],
   "source": [
    "# 생성자와 소멸자를 만들어봅시다.\n",
    "# 생성자 메서드는 __init__으로 정의하고,\n",
    "# 소멸자 메서드는 __del__라는 이름으로 정의합니다.\n",
    "\n",
    "def __init__():\n",
    "    print('생성')\n",
    "\n",
    "def __del__():\n",
    "    print('소멸')"
   ]
  },
  {
   "cell_type": "code",
   "execution_count": 50,
   "id": "dressed-minority",
   "metadata": {},
   "outputs": [
    {
     "name": "stdout",
     "output_type": "stream",
     "text": [
      "생성\n"
     ]
    }
   ],
   "source": [
    "# Person 클래스의 인스턴스를 만들고 person1 변수에 할당합니다.\n",
    "\n",
    "class Person:\n",
    "    def __init__(self):\n",
    "        print('생성')\n",
    "\n",
    "person1 = Person()"
   ]
  },
  {
   "cell_type": "code",
   "execution_count": 51,
   "id": "happy-friend",
   "metadata": {},
   "outputs": [],
   "source": [
    "# del 키워드를 이용하여 소멸자를 활용해봅시다. \n",
    "\n",
    "\n",
    "class Person:\n",
    "    def __init__(self):\n",
    "        print('생성')\n",
    "    def __del__(self):\n",
    "        print('소멸')\n",
    "\n",
    "\n"
   ]
  },
  {
   "cell_type": "markdown",
   "id": "affecting-illness",
   "metadata": {},
   "source": [
    "## 속성(Attribute) 정의\n",
    "\n",
    "- 특정 데이터 타입(또는 클래스)의 객체들이 가지게 될 상태/데이터를 의미합니다.\n",
    "\n",
    "- `self.<속성명> = <값>` 혹은 `<인스턴스>.<속성명> = <값>`으로 설정합니다\n",
    "\n",
    "---\n",
    "**활용법**\n",
    "\n",
    "```python\n",
    "class Person:\n",
    "    def __init__(self, name):\n",
    "        self.name = name\n",
    "        \n",
    "    def talk(self):\n",
    "        print(f'안녕, 나는 {self.name}')\n",
    "```"
   ]
  },
  {
   "cell_type": "code",
   "execution_count": 52,
   "id": "mediterranean-stake",
   "metadata": {},
   "outputs": [],
   "source": [
    "# 인스턴스의 변수, 즉 개별 인스턴스들의 속성 데이터를 초기화와 동시에 정의해봅시다.\n",
    "# 아래 Person 클래스는 name이라는 속성이 정의되어 있습니다.\n",
    "\n",
    "class Person:\n",
    "    def __init__(self, name):\n",
    "        self.name = name\n",
    "        \n",
    "    def talk(self):\n",
    "        print(f'안녕, 나는 {self.name}')"
   ]
  },
  {
   "cell_type": "code",
   "execution_count": null,
   "id": "abroad-canon",
   "metadata": {},
   "outputs": [],
   "source": [
    "# 속성 정의는 꼭 생성자(__init__) 메서드에 작성해야 하지는 않지만, 일반적으로 생성자 메서드에 많이 작성합니다.\n",
    "# 생성자 메서드를 통해 생성과 동시에 인스턴스 속성에 값을 할당할 수 있기 때문입니다.\n",
    "# 새로운 Person의 인스턴스 p1을 이름과 함께 초기화 하고, 이름을 출력해봅시다."
   ]
  },
  {
   "cell_type": "code",
   "execution_count": 56,
   "id": "front-victorian",
   "metadata": {},
   "outputs": [
    {
     "name": "stdout",
     "output_type": "stream",
     "text": [
      "<__main__.Person object at 0x0000021C8BD71D00>\n"
     ]
    }
   ],
   "source": [
    "p1 = Person('수아')\n",
    "print(p1)"
   ]
  },
  {
   "cell_type": "code",
   "execution_count": 57,
   "id": "spectacular-kazakhstan",
   "metadata": {},
   "outputs": [
    {
     "name": "stdout",
     "output_type": "stream",
     "text": [
      "수수수아\n"
     ]
    }
   ],
   "source": [
    "# 인스턴스 속성의 값을 변경할 수도 있습니다.\n",
    "# 위에서 생성한 p1 인스턴스의 name을 다른 값으로 할당해보고, talk 메서드를 실행해봅시다.\n",
    "p1.name ='수수수아'\n",
    "print(p1.name)"
   ]
  },
  {
   "cell_type": "code",
   "execution_count": 63,
   "id": "alive-lending",
   "metadata": {},
   "outputs": [
    {
     "ename": "NameError",
     "evalue": "name 'name' is not defined",
     "output_type": "error",
     "traceback": [
      "\u001b[1;31m---------------------------------------------------------------------------\u001b[0m",
      "\u001b[1;31mNameError\u001b[0m                                 Traceback (most recent call last)",
      "Cell \u001b[1;32mIn[63], line 4\u001b[0m\n\u001b[0;32m      1\u001b[0m \u001b[39m# 생성자 메서드도 함수이기 때문에, 인자의 개수가 맞지 않으면 에러가 발생합니다.\u001b[39;00m\n\u001b[0;32m      2\u001b[0m \u001b[39m# name인자 없이 새로운 Person의 인스턴스 p1을 생성해봅시다.\u001b[39;00m\n\u001b[1;32m----> 4\u001b[0m p1 \u001b[39m=\u001b[39m Person()\n",
      "Cell \u001b[1;32mIn[58], line 6\u001b[0m, in \u001b[0;36mPerson.__init__\u001b[1;34m(self)\u001b[0m\n\u001b[0;32m      5\u001b[0m \u001b[39mdef\u001b[39;00m \u001b[39m__init__\u001b[39m(\u001b[39mself\u001b[39m):\n\u001b[1;32m----> 6\u001b[0m     \u001b[39mself\u001b[39m\u001b[39m.\u001b[39mname \u001b[39m=\u001b[39m name\n",
      "\u001b[1;31mNameError\u001b[0m: name 'name' is not defined"
     ]
    }
   ],
   "source": [
    "# 생성자 메서드도 함수이기 때문에, 인자의 개수가 맞지 않으면 에러가 발생합니다.\n",
    "# name인자 없이 새로운 Person의 인스턴스 p1을 생성해봅시다.\n",
    "\n",
    "p1 = Person()"
   ]
  },
  {
   "cell_type": "code",
   "execution_count": 61,
   "id": "square-fundamental",
   "metadata": {},
   "outputs": [
    {
     "ename": "TypeError",
     "evalue": "__del__() takes 0 positional arguments but 1 was given",
     "output_type": "error",
     "traceback": [
      "\u001b[1;31m---------------------------------------------------------------------------\u001b[0m",
      "\u001b[1;31mTypeError\u001b[0m                                 Traceback (most recent call last)",
      "Cell \u001b[1;32mIn[61], line 3\u001b[0m\n\u001b[0;32m      1\u001b[0m \u001b[39m# 위에서 생성한 인스턴스 p1을 del 연산자를 사용해 소멸시켜봅시다.\u001b[39;00m\n\u001b[1;32m----> 3\u001b[0m \u001b[39m__del__\u001b[39;49m(p1)\n",
      "\u001b[1;31mTypeError\u001b[0m: __del__() takes 0 positional arguments but 1 was given"
     ]
    }
   ],
   "source": [
    "# 위에서 생성한 인스턴스 p1을 del 연산자를 사용해 소멸시켜봅시다.\n",
    "\n",
    "__del__(p1)"
   ]
  },
  {
   "cell_type": "markdown",
   "id": "checked-shadow",
   "metadata": {},
   "source": [
    "## 매직(스페셜) 메서드\n",
    "- 더블언더스코어(`__`)가 있는 메서드는 특별한 일을 하기 위해 만들어진 메서드이기 때문에 `스페셜 메서드` 혹은 `매직 메서드`라고 불립니다.\n",
    "- 매직(스페셜) 메서드 형태: `__someting__`\n",
    "```python\n",
    " '__str__(self)',\n",
    " '__len__(self)',\n",
    " '__repr__(self)',\n",
    " '__lt__(self, other)',\n",
    " '__le__(self, other)',\n",
    " '__eq__(self, other)',\n",
    " '__ne__(self, other)',\n",
    " '__gt__(self, other)',\n",
    " '__ge__(self, other)',\n",
    "```"
   ]
  },
  {
   "cell_type": "markdown",
   "id": "important-residence",
   "metadata": {},
   "source": [
    "### `__str__(self)` \n",
    "\n",
    "```python\n",
    "class Person:\n",
    "    def __str__(self):\n",
    "        return '객체 출력(print)시 보여줄 내용'\n",
    "```\n",
    "\n",
    "- 특정 객체를 출력(`print()`) 할 때 보여줄 내용을 정의할 수 있습니다."
   ]
  },
  {
   "cell_type": "code",
   "execution_count": 64,
   "id": "attempted-explosion",
   "metadata": {},
   "outputs": [
    {
     "data": {
      "text/plain": [
       "['__add__',\n",
       " '__class__',\n",
       " '__contains__',\n",
       " '__delattr__',\n",
       " '__dir__',\n",
       " '__doc__',\n",
       " '__eq__',\n",
       " '__format__',\n",
       " '__ge__',\n",
       " '__getattribute__',\n",
       " '__getitem__',\n",
       " '__getnewargs__',\n",
       " '__gt__',\n",
       " '__hash__',\n",
       " '__init__',\n",
       " '__init_subclass__',\n",
       " '__iter__',\n",
       " '__le__',\n",
       " '__len__',\n",
       " '__lt__',\n",
       " '__mod__',\n",
       " '__mul__',\n",
       " '__ne__',\n",
       " '__new__',\n",
       " '__reduce__',\n",
       " '__reduce_ex__',\n",
       " '__repr__',\n",
       " '__rmod__',\n",
       " '__rmul__',\n",
       " '__setattr__',\n",
       " '__sizeof__',\n",
       " '__str__',\n",
       " '__subclasshook__',\n",
       " 'capitalize',\n",
       " 'casefold',\n",
       " 'center',\n",
       " 'count',\n",
       " 'encode',\n",
       " 'endswith',\n",
       " 'expandtabs',\n",
       " 'find',\n",
       " 'format',\n",
       " 'format_map',\n",
       " 'index',\n",
       " 'isalnum',\n",
       " 'isalpha',\n",
       " 'isascii',\n",
       " 'isdecimal',\n",
       " 'isdigit',\n",
       " 'isidentifier',\n",
       " 'islower',\n",
       " 'isnumeric',\n",
       " 'isprintable',\n",
       " 'isspace',\n",
       " 'istitle',\n",
       " 'isupper',\n",
       " 'join',\n",
       " 'ljust',\n",
       " 'lower',\n",
       " 'lstrip',\n",
       " 'maketrans',\n",
       " 'partition',\n",
       " 'removeprefix',\n",
       " 'removesuffix',\n",
       " 'replace',\n",
       " 'rfind',\n",
       " 'rindex',\n",
       " 'rjust',\n",
       " 'rpartition',\n",
       " 'rsplit',\n",
       " 'rstrip',\n",
       " 'split',\n",
       " 'splitlines',\n",
       " 'startswith',\n",
       " 'strip',\n",
       " 'swapcase',\n",
       " 'title',\n",
       " 'translate',\n",
       " 'upper',\n",
       " 'zfill']"
      ]
     },
     "execution_count": 64,
     "metadata": {},
     "output_type": "execute_result"
    }
   ],
   "source": [
    "# dir() 함수를 통해 문자열 인스턴스가 활용 가능한 메서드를 확인해봅시다.\n",
    "# 아래 코드를 실행시켜 확인해보세요.\n",
    "\n",
    "dir('')"
   ]
  },
  {
   "cell_type": "code",
   "execution_count": 65,
   "id": "weird-there",
   "metadata": {},
   "outputs": [],
   "source": [
    "# Person 클래스를 생성했습니다.\n",
    "\n",
    "class Person:\n",
    "    def __init__(self, name):\n",
    "        self.name = name"
   ]
  },
  {
   "cell_type": "code",
   "execution_count": 67,
   "id": "vocational-timer",
   "metadata": {},
   "outputs": [],
   "source": [
    "# Person의 인스턴스 p1을 생성 후 출력해봅시다.\n",
    "p1 = Person('수아')\n"
   ]
  },
  {
   "cell_type": "code",
   "execution_count": 68,
   "id": "comparable-keeping",
   "metadata": {},
   "outputs": [],
   "source": [
    "# __str__() 매직메서드를 아래와 같이 정의했습니다.\n",
    "\n",
    "class Person:\n",
    "    def __init__(self, name):\n",
    "        self.name = name\n",
    "    \n",
    "    def __str__(self):\n",
    "        return f'나는 {self.name}'"
   ]
  },
  {
   "cell_type": "code",
   "execution_count": 69,
   "id": "reasonable-cornell",
   "metadata": {},
   "outputs": [],
   "source": [
    "# 새로운 인스턴스 p2를 생성후 p2를 출력해봅시다.\n",
    "\n",
    "p2 = Person('수수아')"
   ]
  },
  {
   "cell_type": "markdown",
   "id": "african-topic",
   "metadata": {},
   "source": [
    "## 실습\n",
    "\n",
    "> 매직메서드를 활용하여 인스턴스간의 비교연산(`>`, `==`)이 가능하도록 매직메서드를 정의해봅시다.\n",
    "1. `Person` 클래스를 정의합니다. \n",
    "2. 인스턴스 속성은 문자열 `name` 과 정수 `age`입니다. 두 속성 모두 생성자 함수에서 설정합니다.\n",
    "3. 인스턴스간 `age`의 대/소비교가 가능해야합니다.\n",
    "4.  `__gt__`메서드와 `__eq__`메서드를 활용합니다."
   ]
  },
  {
   "cell_type": "code",
   "execution_count": null,
   "id": "healthy-solomon",
   "metadata": {},
   "outputs": [],
   "source": [
    "# 아래 셀의 코드가 정상적으로 동작하도록 Person클래스를 정의해봅시다.\n",
    "\n",
    "class Person:\n",
    "    def __init__(self, name, age):\n",
    "        self.name = name\n",
    "        self.age = age\n",
    "    \n",
    "    def __gt__(self,other):\n",
    "        return self.age > other.age\n",
    "    def __eq__(self):\n",
    "        return f'나는 {self.name}'"
   ]
  },
  {
   "cell_type": "code",
   "execution_count": null,
   "id": "charged-reaction",
   "metadata": {},
   "outputs": [],
   "source": [
    "p1 = Person('1', 1)\n",
    "p2 = Person('2', 2)\n",
    "p3 = Person('3', 1)\n",
    "\n",
    "print(p1 > p2)\n",
    "print(p1 == p3)\n",
    "print(p1 == p2)"
   ]
  },
  {
   "cell_type": "markdown",
   "id": "bearing-mistake",
   "metadata": {},
   "source": [
    "# 클래스 (class)\n",
    "\n",
    "> `class`: 객체들의 분류(class)를 정의할 때 쓰이는 키워드\n"
   ]
  },
  {
   "cell_type": "markdown",
   "id": "regulated-tribe",
   "metadata": {},
   "source": [
    "## 클래스(Class) 생성\n",
    "\n",
    "* 클래스 생성은 `class` 키워드와 정의하고자 하는 `<클래스의 이름>`으로 가능합니다.\n",
    "\n",
    "* `<클래스의 이름>`은 `PascalCase`로 정의합니다.\n",
    "\n",
    "* 클래스 내부에는 데이터와 함수를 정의할 수 있고, 이때 데이터는 **속성(attribute)** 정의된 함수는 **메서드(method)**로 부릅니다.\n",
    "\n",
    "---\n",
    "\n",
    "**활용법**\n",
    "\n",
    "```python\n",
    "class <클래스이름>:\n",
    "    <statement>\n",
    "```\n",
    "\n",
    "```python\n",
    "class ClassName:\n",
    "    statement\n",
    "```"
   ]
  },
  {
   "cell_type": "code",
   "execution_count": 72,
   "id": "welcome-possibility",
   "metadata": {},
   "outputs": [
    {
     "ename": "SyntaxError",
     "evalue": "EOL while scanning string literal (2045473156.py, line 6)",
     "output_type": "error",
     "traceback": [
      "\u001b[1;36m  Cell \u001b[1;32mIn[72], line 6\u001b[1;36m\u001b[0m\n\u001b[1;33m    \"\"\"\"\u001b[0m\n\u001b[1;37m        \n^\u001b[0m\n\u001b[1;31mSyntaxError\u001b[0m\u001b[1;31m:\u001b[0m EOL while scanning string literal\n"
     ]
    }
   ],
   "source": [
    "# Person 이라는 이름의 class를 정의해봅시다. \n",
    "# 아래와 같이 \"\"\"(docstring)을 통해 클래스에 대한 설명(doc)도 함께 정의해 봅시다.\n",
    "class Person:\n",
    "    \"\"\"\n",
    "    이것은 클래스이다\n",
    "    \"\"\"\""
   ]
  },
  {
   "cell_type": "markdown",
   "id": "creative-algeria",
   "metadata": {},
   "source": [
    "```python\n",
    "class ClassName:\n",
    "    \"\"\"\n",
    "    이것은 ClassName 클래스입니다.\n",
    "    \"\"\"\n",
    "```"
   ]
  },
  {
   "cell_type": "code",
   "execution_count": 71,
   "id": "pregnant-explosion",
   "metadata": {},
   "outputs": [],
   "source": [
    "# Person 클래스를 docstring과 함께 정의해 봅시다.\n",
    "class Person:\n",
    "    \"\"\"\n",
    "    이것은 Person 클래스(class)입니다.\n",
    "    \"\"\""
   ]
  },
  {
   "cell_type": "code",
   "execution_count": 74,
   "id": "transsexual-graph",
   "metadata": {},
   "outputs": [],
   "source": [
    "# 앞서 정의한 Person 클래스의 docstring을 출력해봅시다.\n"
   ]
  },
  {
   "cell_type": "markdown",
   "id": "approximate-university",
   "metadata": {},
   "source": [
    "## 클래스 변수\n",
    "* 클래스의 속성(attribute)\n",
    "* 모든 인스턴스가 공유\n",
    "* 클래스 선언 내부에서 정의\n",
    "* `클래스.변수명`으로 접근 및 할당\n",
    "\n",
    "---\n",
    "\n",
    "**활용법**\n",
    "```python\n",
    "class Circle:\n",
    "    pi = 3.14\n",
    "    \n",
    "print(Circle.pi)\n",
    "```"
   ]
  },
  {
   "cell_type": "code",
   "execution_count": 75,
   "id": "opened-reply",
   "metadata": {},
   "outputs": [
    {
     "name": "stdout",
     "output_type": "stream",
     "text": [
      "3.14\n"
     ]
    }
   ],
   "source": [
    "# 위의 예시 코드대로 Circle 클래스를 생성해봅시다.\n",
    "\n",
    "class Circle:\n",
    "    pi = 3.14\n",
    "print(Circle.pi)"
   ]
  },
  {
   "cell_type": "code",
   "execution_count": null,
   "id": "sixth-capture",
   "metadata": {},
   "outputs": [],
   "source": [
    "# Circle 클래스의 인스턴스 c1, c2를 생성해봅시다.\n",
    "c1 = Circle()\n",
    "c2 = Circle()"
   ]
  },
  {
   "cell_type": "code",
   "execution_count": 76,
   "id": "secondary-ready",
   "metadata": {},
   "outputs": [
    {
     "data": {
      "text/plain": [
       "3.14"
      ]
     },
     "execution_count": 76,
     "metadata": {},
     "output_type": "execute_result"
    }
   ],
   "source": [
    "# 클래스 변수 pi에 접근해봅시다.\n",
    "\n",
    "Circle.pi"
   ]
  },
  {
   "cell_type": "code",
   "execution_count": 77,
   "id": "comfortable-pipeline",
   "metadata": {},
   "outputs": [
    {
     "ename": "NameError",
     "evalue": "name 'c1' is not defined",
     "output_type": "error",
     "traceback": [
      "\u001b[1;31m---------------------------------------------------------------------------\u001b[0m",
      "\u001b[1;31mNameError\u001b[0m                                 Traceback (most recent call last)",
      "Cell \u001b[1;32mIn[77], line 3\u001b[0m\n\u001b[0;32m      1\u001b[0m \u001b[39m# 인스턴스 c1, c2에서 pi 값을 출력해봅시다.\u001b[39;00m\n\u001b[1;32m----> 3\u001b[0m c1(Circle\u001b[39m.\u001b[39mpi)\n",
      "\u001b[1;31mNameError\u001b[0m: name 'c1' is not defined"
     ]
    }
   ],
   "source": [
    "# 인스턴스 c1, c2에서 pi 값을 출력해봅시다.\n"
   ]
  },
  {
   "cell_type": "code",
   "execution_count": null,
   "id": "outstanding-agriculture",
   "metadata": {},
   "outputs": [],
   "source": [
    "# c1의 pi 값을 3.141592로 변경하여 봅시다.\n",
    "c1.pi=3.141592"
   ]
  },
  {
   "cell_type": "code",
   "execution_count": 80,
   "id": "widespread-happiness",
   "metadata": {},
   "outputs": [],
   "source": [
    "# c1, c2에서의 pi값을 각각 출력해봅시다.\n",
    "\n"
   ]
  },
  {
   "cell_type": "code",
   "execution_count": 78,
   "id": "comparative-voltage",
   "metadata": {},
   "outputs": [
    {
     "name": "stdout",
     "output_type": "stream",
     "text": [
      "3.14\n"
     ]
    }
   ],
   "source": [
    "# Circle의 pi를 출력해봅시다.\n",
    "\n",
    "print(Circle.pi)"
   ]
  },
  {
   "cell_type": "markdown",
   "id": "necessary-therapist",
   "metadata": {},
   "source": [
    "## 클래스 메서드(class method)\n",
    "* 클래스가 사용할 메서드에 해당합니다.\n",
    "* `@classmethod` 데코레이터를 사용하여 정의합니다.\n",
    "* **메서드 호출시, 첫 번째 인자로 클래스 `cls`가 전달됩니다**\n",
    "\n",
    "---\n",
    "\n",
    "**활용법**\n",
    "\n",
    "```python\n",
    "class MyClass:\n",
    "    @classmethod\n",
    "    def class_method(cls, arg1, arg2, ...):\n",
    "        ...\n",
    "\n",
    "# 자동으로 첫 번째 인자로 클래스(MyClass)가 들어갑니다.\n",
    "MyClass.class_method(.., ..)  \n",
    "```"
   ]
  },
  {
   "cell_type": "markdown",
   "id": "amazing-security",
   "metadata": {},
   "source": [
    "## 스태틱 메서드(static method)\n",
    "* 클래스가 사용할 메서드에 해당합니다.\n",
    "* 인스턴스와 클래스의 속성과 무관한 메서드입니다.\n",
    "* `@staticmethod` 데코레이터를 사용하여 정의합니다.\n",
    "* **호출시, 어떠한 인자도 전달되지 않습니다**\n",
    "* 속성을 다루지 않고 단지 기능(행동)만을 하는 메서드를 정의할 때 사용합니다.\n",
    "\n",
    "\n",
    "---\n",
    "\n",
    "**활용법**\n",
    "\n",
    "```python\n",
    "class MyClass:\n",
    "    @staticmethod\n",
    "    def static_method(arg1, arg2, ...):\n",
    "        ...\n",
    "\n",
    "MyClass.static_method(.., ..)\n",
    "```"
   ]
  },
  {
   "cell_type": "code",
   "execution_count": null,
   "id": "severe-astronomy",
   "metadata": {},
   "outputs": [],
   "source": [
    "# MyClass 클래스를 정의해 두었습니다.\n",
    "\n",
    "class MyClass:\n",
    "    \n",
    "    def instance_method(self):\n",
    "        return self\n",
    "    \n",
    "    @classmethod\n",
    "    def class_method(cls):\n",
    "        return cls\n",
    "    \n",
    "    @staticmethod\n",
    "    def static_method(arg):\n",
    "        return arg"
   ]
  },
  {
   "cell_type": "code",
   "execution_count": null,
   "id": "insured-technical",
   "metadata": {},
   "outputs": [],
   "source": [
    "# MyClass 클래스의 인스턴스 mc를 생성해봅시다.\n",
    "\n"
   ]
  },
  {
   "cell_type": "code",
   "execution_count": null,
   "id": "specific-summit",
   "metadata": {},
   "outputs": [],
   "source": [
    "# 인스턴스 메서드를 호출하여 반환된 결과(self)와 인스턴스(mc)를 비교해봅시다.\n",
    "# 1. id를 출력해 보고, 같은 id인지 확인\n",
    "# 2. == 연산자를 확인해 비교\n",
    "\n"
   ]
  },
  {
   "cell_type": "code",
   "execution_count": null,
   "id": "studied-document",
   "metadata": {},
   "outputs": [],
   "source": [
    "# 클래스 메서드를 호출하여 반환된 결과(cls)와 인스턴스(mc)를 비교해봅시다.\n",
    "# 1. id를 출력해 보고, 같은 id인지 확인\n",
    "# 2. == 연산자를 확인해 비교\n",
    "\n"
   ]
  },
  {
   "cell_type": "code",
   "execution_count": null,
   "id": "native-packet",
   "metadata": {},
   "outputs": [],
   "source": [
    "# 스태틱 메서드를 호출하고 반환된 결과(arg)를 확인해봅시다.\n",
    "# 인스턴스 메서드, 클래스 메서드처럼 자동으로 전달되는 인자가 없습니다.\n",
    "\n"
   ]
  },
  {
   "cell_type": "markdown",
   "id": "realistic-absence",
   "metadata": {},
   "source": [
    "## 인스턴스와 클래스 간의 이름 공간 (namespace)\n",
    "\n",
    "* 클래스를 정의하면 클래스와 해당하는 이름 공간이 생성됩니다.\n",
    "* 인스턴스를 만들면 인스턴스 객체가 생성되고 이름 공간이 생성됩니다.\n",
    "* 인스턴스에서 특정 속성에 접근하면, 인스턴스-클래스 순으로 탐색합니다."
   ]
  },
  {
   "cell_type": "code",
   "execution_count": 81,
   "id": "inclusive-fossil",
   "metadata": {},
   "outputs": [],
   "source": [
    "# 먼저 아래 코드에 대한 이름 공간을 확인해봅시다.\n",
    "\n",
    "class Person:\n",
    "    species = 'human'\n",
    "    \n",
    "    def __init__(self, name):\n",
    "        self.name = name \n",
    "        \n",
    "p1 = Person('Hong')\n",
    "p2 = Person('Choi')"
   ]
  },
  {
   "cell_type": "code",
   "execution_count": null,
   "id": "sustainable-robin",
   "metadata": {},
   "outputs": [],
   "source": [
    "# 아래 셀을 실행하여 이름 공간(namespace) 구성을 시각적으로 확인해보세요.\n",
    "# 클래스를 위한 이름 공간 그리고 인스턴스별로 이름 공간이 따로 구성되는 점에 주목하세요."
   ]
  },
  {
   "cell_type": "code",
   "execution_count": 82,
   "id": "governmental-murder",
   "metadata": {
    "scrolled": true
   },
   "outputs": [
    {
     "data": {
      "text/html": [
       "<iframe width=\"800\" height=\"500\" frameborder=\"0\" src=\"https://pythontutor.com/iframe-embed.html#code=class%20Person%3A%0A%20%20%20%20species%20%3D%20'human'%0A%20%20%20%20%0A%20%20%20%20def%20__init__%28self,%20name%29%3A%0A%20%20%20%20%20%20%20%20self.name%20%3D%20name%20%0A%20%20%20%20%20%20%20%20%0Ap1%20%3D%20Person%28'Hong'%29%0Ap2%20%3D%20Person%28'Choi'%29&codeDivHeight=400&codeDivWidth=350&cumulative=false&curInstr=9&heapPrimitives=nevernest&origin=opt-frontend.js&py=3&rawInputLstJSON=%5B%5D&textReferences=false\"> </iframe>\n"
      ],
      "text/plain": [
       "<IPython.core.display.HTML object>"
      ]
     },
     "metadata": {},
     "output_type": "display_data"
    }
   ],
   "source": [
    "%%html\n",
    "<iframe width=\"800\" height=\"500\" frameborder=\"0\" src=\"https://pythontutor.com/iframe-embed.html#code=class%20Person%3A%0A%20%20%20%20species%20%3D%20'human'%0A%20%20%20%20%0A%20%20%20%20def%20__init__%28self,%20name%29%3A%0A%20%20%20%20%20%20%20%20self.name%20%3D%20name%20%0A%20%20%20%20%20%20%20%20%0Ap1%20%3D%20Person%28'Hong'%29%0Ap2%20%3D%20Person%28'Choi'%29&codeDivHeight=400&codeDivWidth=350&cumulative=false&curInstr=9&heapPrimitives=nevernest&origin=opt-frontend.js&py=3&rawInputLstJSON=%5B%5D&textReferences=false\"> </iframe>"
   ]
  },
  {
   "cell_type": "code",
   "execution_count": null,
   "id": "later-dealing",
   "metadata": {},
   "outputs": [],
   "source": [
    "# Person 클래스를 재정의하여 다른 예시로 살펴봅시다.\n",
    "\n",
    "class Person:\n",
    "    species = 'human'\n",
    "    \n",
    "    def __init__(self, name):\n",
    "        self.name = name "
   ]
  },
  {
   "cell_type": "code",
   "execution_count": null,
   "id": "human-environment",
   "metadata": {
    "scrolled": true
   },
   "outputs": [],
   "source": [
    "# p1은 인스턴스 변수가 정의되어 있지 않아 클래스 변수가 unknown으로 출력됩니다.\n",
    "\n"
   ]
  },
  {
   "cell_type": "code",
   "execution_count": null,
   "id": "embedded-teach",
   "metadata": {},
   "outputs": [],
   "source": [
    "# p2 인스턴스 변수 name을 다른 값으로 설정해봅시다.\n",
    "\n"
   ]
  },
  {
   "cell_type": "code",
   "execution_count": null,
   "id": "baking-living",
   "metadata": {},
   "outputs": [],
   "source": [
    "# Person 클래스의 값이 Kim으로 변경된 것이 아니므로\n",
    "# p2 인스턴스의 이름 공간에 name이 Kim으로 저장됩니다.\n",
    "\n"
   ]
  },
  {
   "cell_type": "code",
   "execution_count": null,
   "id": "directed-grain",
   "metadata": {},
   "outputs": [],
   "source": [
    "# 아래 셀을 실행하여 시각적으로 위의 설명을 시각적으로 살펴봅시다."
   ]
  },
  {
   "cell_type": "code",
   "execution_count": null,
   "id": "cordless-harrison",
   "metadata": {
    "scrolled": true
   },
   "outputs": [],
   "source": [
    "%%html\n",
    "<iframe width=\"800\" height=\"500\" frameborder=\"0\" src=\"https://pythontutor.com/iframe-embed.html#code=class%20Person%3A%0A%20%20%20%20name%20%3D%20'unknown'%0A%20%20%20%20%0A%20%20%20%20def%20talk%28self%29%3A%0A%20%20%20%20%20%20%20%20print%28self.name%29%0A%20%20%20%20%20%20%20%20%0Ap2%20%3D%20Person%28%29%0Ap2.talk%28%29%0Ap2.name%20%3D%20'kim'%0Ap2.talk%28%29&codeDivHeight=400&codeDivWidth=350&cumulative=false&curInstr=8&heapPrimitives=nevernest&origin=opt-frontend.js&py=3&rawInputLstJSON=%5B%5D&textReferences=false\"> </iframe>"
   ]
  },
  {
   "cell_type": "markdown",
   "id": "natural-allowance",
   "metadata": {},
   "source": [
    "# 비교 정리"
   ]
  },
  {
   "cell_type": "markdown",
   "id": "disturbed-understanding",
   "metadata": {},
   "source": [
    "### 인스턴스와 메서드\n",
    "- 인스턴스는 3가지 메서드(인스턴스, 클래스, 정적 메서드) 모두에 접근할 수 있습니다.\n",
    "    - 인스턴스에서 클래스 메서드와 스태틱 메서드는 호출하지 않습니다. (가능하다 != 사용한다)\n",
    "- 인스턴스가 할 행동은 모두 인스턴스 메서드로 한정 지어서 설계합니다.\n"
   ]
  },
  {
   "cell_type": "code",
   "execution_count": 83,
   "id": "chemical-fault",
   "metadata": {},
   "outputs": [],
   "source": [
    "# MyClass를 활용하여 살펴봅시다.\n",
    "\n",
    "class MyClass:\n",
    "    def instance_method(self):\n",
    "        return 'instance_method', self\n",
    "    \n",
    "    @classmethod\n",
    "    def class_method(cls):\n",
    "        return 'class_method', cls\n",
    "    \n",
    "    @staticmethod\n",
    "    def static_method():\n",
    "        return 'static method'"
   ]
  },
  {
   "cell_type": "code",
   "execution_count": 85,
   "id": "italian-amsterdam",
   "metadata": {},
   "outputs": [],
   "source": [
    "# MyClass의 인스턴스를 만들고 mc 변수에 저장합시다.\n",
    "mc = MyClass()\n"
   ]
  },
  {
   "cell_type": "code",
   "execution_count": 86,
   "id": "restricted-doctrine",
   "metadata": {},
   "outputs": [
    {
     "data": {
      "text/plain": [
       "('instance_method', <__main__.MyClass at 0x21c8bd65ca0>)"
      ]
     },
     "execution_count": 86,
     "metadata": {},
     "output_type": "execute_result"
    }
   ],
   "source": [
    "# 인스턴스에서 인스턴스 메서드를 호출하고 결과를 확인해봅시다.\n",
    "\n",
    "mc.instance_method()"
   ]
  },
  {
   "cell_type": "code",
   "execution_count": 87,
   "id": "embedded-purpose",
   "metadata": {},
   "outputs": [
    {
     "data": {
      "text/plain": [
       "('class_method', __main__.MyClass)"
      ]
     },
     "execution_count": 87,
     "metadata": {},
     "output_type": "execute_result"
    }
   ],
   "source": [
    "# 인스턴스에서 클래스 메서드를 호출하고 결과를 확인해봅시다.\n",
    "mc.class_method()\n"
   ]
  },
  {
   "cell_type": "code",
   "execution_count": 88,
   "id": "parliamentary-entrance",
   "metadata": {},
   "outputs": [
    {
     "data": {
      "text/plain": [
       "<function __main__.MyClass.static_method()>"
      ]
     },
     "execution_count": 88,
     "metadata": {},
     "output_type": "execute_result"
    }
   ],
   "source": [
    "# 인스턴스에서 스태틱 메서드를 호출하고 결과를 확인해봅시다.\n",
    "\n",
    "mc.static_method"
   ]
  },
  {
   "cell_type": "markdown",
   "id": "partial-nickname",
   "metadata": {},
   "source": [
    "### 클래스와 메서드\n",
    "- 클래스는 3가지 메서드(인스턴스, 클래스, 정적 메서드) 모두에 접근할 수 있습니다.\n",
    "    - 클래스에서 인스턴스 메서드는 호출하지 않습니다. (가능하다 != 사용한다)\n",
    "- 클래스가 할 행동은 다음 원칙에 따라 설계합니다. (클래스 메서드와 정적 메서드)\n",
    "    - 클래스 자체(`cls`)와 그 속성에 접근할 필요가 있다면 **클래스 메서드**로 정의합니다.\n",
    "    - 클래스와 클래스 속성에 접근할 필요가 없다면 **정적 메서드**로 정의합니다.\n",
    "        - 정적 메서드는 `cls`, `self`와 같이 묵시적인 첫번째 인자를 받지 않기 때문입니다."
   ]
  },
  {
   "cell_type": "code",
   "execution_count": 90,
   "id": "leading-helena",
   "metadata": {},
   "outputs": [
    {
     "ename": "NameError",
     "evalue": "name 'selfs' is not defined",
     "output_type": "error",
     "traceback": [
      "\u001b[1;31m---------------------------------------------------------------------------\u001b[0m",
      "\u001b[1;31mNameError\u001b[0m                                 Traceback (most recent call last)",
      "Cell \u001b[1;32mIn[90], line 4\u001b[0m\n\u001b[0;32m      1\u001b[0m \u001b[39m# 클래스에서 인스턴스 메서드를 호출하면 오류가 발생합니다.\u001b[39;00m\n\u001b[0;32m      2\u001b[0m \u001b[39m# 실행시켜 오류를 확인해봅시다.\u001b[39;00m\n\u001b[1;32m----> 4\u001b[0m MyClass\u001b[39m.\u001b[39minstance_method(selfs)\n",
      "\u001b[1;31mNameError\u001b[0m: name 'selfs' is not defined"
     ]
    }
   ],
   "source": [
    "# 클래스에서 인스턴스 메서드를 호출하면 오류가 발생합니다.\n",
    "# 실행시켜 오류를 확인해봅시다.\n",
    "\n",
    "MyClass.instance_method(selfs)"
   ]
  },
  {
   "cell_type": "code",
   "execution_count": 89,
   "id": "varying-event",
   "metadata": {
    "scrolled": true
   },
   "outputs": [
    {
     "ename": "TypeError",
     "evalue": "instance_method() missing 1 required positional argument: 'self'",
     "output_type": "error",
     "traceback": [
      "\u001b[1;31m---------------------------------------------------------------------------\u001b[0m",
      "\u001b[1;31mTypeError\u001b[0m                                 Traceback (most recent call last)",
      "Cell \u001b[1;32mIn[89], line 4\u001b[0m\n\u001b[0;32m      1\u001b[0m \u001b[39m# 클래스에서 인스턴스 메서드를 그냥 호출하면 'self'가 넘어가지 않기 때문에 오류가 발생합니다.\u001b[39;00m\n\u001b[0;32m      2\u001b[0m \u001b[39m# 실행시켜 오류를 확인해봅시다.\u001b[39;00m\n\u001b[1;32m----> 4\u001b[0m MyClass\u001b[39m.\u001b[39;49minstance_method()\n",
      "\u001b[1;31mTypeError\u001b[0m: instance_method() missing 1 required positional argument: 'self'"
     ]
    }
   ],
   "source": [
    "# 클래스에서 인스턴스 메서드를 그냥 호출하면 'self'가 넘어가지 않기 때문에 오류가 발생합니다.\n",
    "# 실행시켜 오류를 확인해봅시다.\n",
    "\n",
    "MyClass.instance_method()"
   ]
  },
  {
   "cell_type": "code",
   "execution_count": 91,
   "id": "reflected-condition",
   "metadata": {},
   "outputs": [
    {
     "data": {
      "text/plain": [
       "('class_method', __main__.MyClass)"
      ]
     },
     "execution_count": 91,
     "metadata": {},
     "output_type": "execute_result"
    }
   ],
   "source": [
    "# 클래스에서 클래스 메서드를 호출하고 결과를 확인해봅시다.\n",
    "\n",
    "MyClass.class_method()"
   ]
  }
 ],
 "metadata": {
  "kernelspec": {
   "display_name": "Python 3",
   "language": "python",
   "name": "python3"
  },
  "language_info": {
   "codemirror_mode": {
    "name": "ipython",
    "version": 3
   },
   "file_extension": ".py",
   "mimetype": "text/x-python",
   "name": "python",
   "nbconvert_exporter": "python",
   "pygments_lexer": "ipython3",
   "version": "3.9.13 (tags/v3.9.13:6de2ca5, May 17 2022, 16:36:42) [MSC v.1929 64 bit (AMD64)]"
  },
  "toc": {
   "base_numbering": 1,
   "nav_menu": {},
   "number_sections": true,
   "sideBar": true,
   "skip_h1_title": false,
   "title_cell": "Table of Contents",
   "title_sidebar": "Contents",
   "toc_cell": false,
   "toc_position": {
    "height": "calc(100% - 180px)",
    "left": "10px",
    "top": "150px",
    "width": "340.98px"
   },
   "toc_section_display": true,
   "toc_window_display": true
  },
  "vscode": {
   "interpreter": {
    "hash": "c4b9ebf4ca459396e2ad1150752490c26670c1a037c08cad955a4425787bec2e"
   }
  }
 },
 "nbformat": 4,
 "nbformat_minor": 5
}
